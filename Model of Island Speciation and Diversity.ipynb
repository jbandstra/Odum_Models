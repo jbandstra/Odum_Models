{
 "cells": [
  {
   "cell_type": "markdown",
   "metadata": {},
   "source": [
    "# Model of Production and Oxygen in Aquatic Ecosystems"
   ]
  },
  {
   "cell_type": "markdown",
   "metadata": {},
   "source": [
    "##### The model relates the processess developing diversity of species and ecosystem productivity on isolated islands over long periods of time."
   ]
  },
  {
   "cell_type": "code",
   "execution_count": 2,
   "metadata": {},
   "outputs": [],
   "source": [
    "# impport statements\n",
    "\n",
    "import math as m\n",
    "import numpy as np\n",
    "import matplotlib.pyplot as plt\n",
    "from scipy.integrate import solve_ivp"
   ]
  },
  {
   "cell_type": "markdown",
   "metadata": {},
   "source": [
    "#### Define Variables\n",
    "\n",
    "##### R2 = production available for use\n",
    "##### P = production\n",
    "##### N = diversity (species per 1000 individuals counted\n",
    "##### S = source of species\n",
    "##### d = distance from source of new species"
   ]
  },
  {
   "cell_type": "code",
   "execution_count": 4,
   "metadata": {},
   "outputs": [
    {
     "data": {
      "text/plain": [
       "Text(0, 0.5, 'Number of Species')"
      ]
     },
     "execution_count": 4,
     "metadata": {},
     "output_type": "execute_result"
    },
    {
     "data": {
      "image/png": "[encoded data removed]",
      "text/plain": [
       "<Figure size 432x288 with 1 Axes>"
      ]
     },
     "metadata": {
      "needs_background": "light"
     },
     "output_type": "display_data"
    }
   ],
   "source": [
    "def SPECIES(t, N):\n",
    "#     N = 1\n",
    "    J = 1\n",
    "    S = 2\n",
    "    d = 250\n",
    "    k0 = 0.2666\n",
    "    k1 = 20000\n",
    "    k2 = 2.5\n",
    "    k3 = 13\n",
    "    k4 = 0.000005\n",
    "    k5 = 0.000041\n",
    "    k6 = 0.00067\n",
    "    k7 = 10000\n",
    "    R = J/(1+k0*N)\n",
    "    P = k1*R*N\n",
    "    R2 = (P-k3*N*N)/(1+k2)\n",
    "    \n",
    "    return k4*R2 + (k7*S)/(d*d) - k6*N - k5*N*N\n",
    "\n",
    "soln = solve_ivp(SPECIES, (0, 200), [1], dense_output=True)\n",
    "\n",
    "t_arr = np.linspace(0,200,200)\n",
    "plt.plot(t_arr, soln.sol(t_arr).T)\n",
    "plt.xlabel(\"Time\")\n",
    "plt.ylabel(\"Number of Species\")"
   ]
  },
  {
   "cell_type": "code",
   "execution_count": null,
   "metadata": {},
   "outputs": [],
   "source": []
  },
  {
   "cell_type": "code",
   "execution_count": null,
   "metadata": {},
   "outputs": [],
   "source": []
  }
 ],
 "metadata": {
  "kernelspec": {
   "display_name": "Python 3",
   "language": "python",
   "name": "python3"
  },
  "language_info": {
   "codemirror_mode": {
    "name": "ipython",
    "version": 3
   },
   "file_extension": ".py",
   "mimetype": "text/x-python",
   "name": "python",
   "nbconvert_exporter": "python",
   "pygments_lexer": "ipython3",
   "version": "3.7.6"
  }
 },
 "nbformat": 4,
 "nbformat_minor": 4
}
